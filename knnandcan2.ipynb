{
  "nbformat": 4,
  "nbformat_minor": 0,
  "metadata": {
    "colab": {
      "provenance": [],
      "authorship_tag": "ABX9TyOMv5Bd4SCl8foBqqB1/twH",
      "include_colab_link": true
    },
    "kernelspec": {
      "name": "python3",
      "display_name": "Python 3"
    },
    "language_info": {
      "name": "python"
    }
  },
  "cells": [
    {
      "cell_type": "markdown",
      "metadata": {
        "id": "view-in-github",
        "colab_type": "text"
      },
      "source": [
        "<a href=\"https://colab.research.google.com/github/srikanthRyali2004/ex1.2/blob/main/knnandcan2.ipynb\" target=\"_parent\"><img src=\"https://colab.research.google.com/assets/colab-badge.svg\" alt=\"Open In Colab\"/></a>"
      ]
    },
    {
      "cell_type": "code",
      "execution_count": 1,
      "metadata": {
        "colab": {
          "base_uri": "https://localhost:8080/"
        },
        "id": "zOh1FGVobU3x",
        "outputId": "3b058189-f38c-430f-d79f-4685cbe75237"
      },
      "outputs": [
        {
          "output_type": "stream",
          "name": "stdout",
          "text": [
            "   sepal-length  sepal-width  petal-length  petal-width\n",
            "0           5.1          3.5           1.4          0.2\n",
            "1           4.9          3.0           1.4          0.2\n",
            "2           4.7          3.2           1.3          0.2\n",
            "3           4.6          3.1           1.5          0.2\n",
            "4           5.0          3.6           1.4          0.2\n",
            "\n",
            "-------------------------------------------------------------------------\n",
            "Original Label            Predicted Label           Correct/Wrong            \n",
            "-------------------------------------------------------------------------\n",
            "Iris-versicolor           Iris-versicolor           Correct                  \n",
            "Iris-setosa               Iris-setosa               Correct                  \n",
            "Iris-virginica            Iris-virginica            Correct                  \n",
            "Iris-versicolor           Iris-versicolor           Correct                  \n",
            "Iris-versicolor           Iris-versicolor           Correct                  \n",
            "Iris-setosa               Iris-setosa               Correct                  \n",
            "Iris-versicolor           Iris-versicolor           Correct                  \n",
            "Iris-virginica            Iris-virginica            Correct                  \n",
            "Iris-versicolor           Iris-versicolor           Correct                  \n",
            "Iris-versicolor           Iris-versicolor           Correct                  \n",
            "Iris-virginica            Iris-virginica            Correct                  \n",
            "Iris-setosa               Iris-setosa               Correct                  \n",
            "Iris-setosa               Iris-setosa               Correct                  \n",
            "Iris-setosa               Iris-setosa               Correct                  \n",
            "Iris-setosa               Iris-setosa               Correct                  \n",
            "-------------------------------------------------------------------------\n",
            "\n",
            "Confusion Matrix:\n",
            " [[6 0 0]\n",
            " [0 6 0]\n",
            " [0 0 3]]\n",
            "-------------------------------------------------------------------------\n",
            "\n",
            "Classification Report:\n",
            "                  precision    recall  f1-score   support\n",
            "\n",
            "    Iris-setosa       1.00      1.00      1.00         6\n",
            "Iris-versicolor       1.00      1.00      1.00         6\n",
            " Iris-virginica       1.00      1.00      1.00         3\n",
            "\n",
            "       accuracy                           1.00        15\n",
            "      macro avg       1.00      1.00      1.00        15\n",
            "   weighted avg       1.00      1.00      1.00        15\n",
            "\n",
            "-------------------------------------------------------------------------\n",
            "Accuracy of the classifer is 1.00\n",
            "-------------------------------------------------------------------------\n"
          ]
        }
      ],
      "source": [
        "import numpy as np\n",
        "import pandas as pd\n",
        "from sklearn.neighbors import KNeighborsClassifier\n",
        "from sklearn.model_selection import train_test_split\n",
        "from sklearn import metrics\n",
        "\n",
        "names = ['sepal-length', 'sepal-width', 'petal-length', 'petal-width', 'Class']\n",
        "\n",
        "# Read dataset to pandas dataframe\n",
        "dataset = pd.read_csv(\"9-dataset.csv\", names=names)\n",
        "X = dataset.iloc[:, :-1]\n",
        "y = dataset.iloc[:, -1]\n",
        "print(X.head())\n",
        "Xtrain, Xtest, ytrain, ytest = train_test_split(X, y, test_size=0.10,random_state=42)\n",
        "\n",
        "classifier = KNeighborsClassifier(n_neighbors=5).fit(Xtrain, ytrain)\n",
        "\n",
        "ypred = classifier.predict(Xtest)\n",
        "\n",
        "i = 0\n",
        "print (\"\\n-------------------------------------------------------------------------\")\n",
        "print ('%-25s %-25s %-25s' % ('Original Label', 'Predicted Label', 'Correct/Wrong'))\n",
        "print (\"-------------------------------------------------------------------------\")\n",
        "for label in ytest:\n",
        "    print ('%-25s %-25s' % (label, ypred[i]), end=\"\")\n",
        "    if (label == ypred[i]):\n",
        "        print (' %-25s' % ('Correct'))\n",
        "    else:\n",
        "        print (' %-25s' % ('Wrong'))\n",
        "    i = i + 1\n",
        "print (\"-------------------------------------------------------------------------\")\n",
        "print(\"\\nConfusion Matrix:\\n\",metrics.confusion_matrix(ytest, ypred))\n",
        "print (\"-------------------------------------------------------------------------\")\n",
        "print(\"\\nClassification Report:\\n\",metrics.classification_report(ytest, ypred))\n",
        "print (\"-------------------------------------------------------------------------\")\n",
        "print('Accuracy of the classifer is %0.2f' % metrics.accuracy_score(ytest,ypred))\n",
        "print (\"-------------------------------------------------------------------------\")"
      ]
    },
    {
      "cell_type": "code",
      "source": [
        "import csv\n",
        "\n",
        "with open(\"ws.csv\") as f:\n",
        "    csv_file = csv.reader(f)\n",
        "    data = list(csv_file)\n",
        "\n",
        "    specific = data[0][:-1]\n",
        "    general = [['?' for i in range(len(specific))] for j in range(len(specific))]\n",
        "\n",
        "    for i in data:\n",
        "        if i[-1] == \"Yes\":\n",
        "            for j in range(len(specific)):\n",
        "                if i[j] != specific[j]:\n",
        "                    specific[j] = \"?\"\n",
        "                    general[j][j] = \"?\"\n",
        "\n",
        "        elif i[-1] == \"No\":\n",
        "            for j in range(len(specific)):\n",
        "                if i[j] != specific[j]:\n",
        "                    general[j][j] = specific[j]\n",
        "                else:\n",
        "                    general[j][j] = \"?\"\n",
        "\n",
        "        print(\"\\nStep \" + str(data.index(i)+1) + \" of Candidate Elimination Algorithm\")\n",
        "        print(specific)\n",
        "        print(general)\n",
        "\n",
        "    gh = [] # gh = general Hypothesis\n",
        "    for i in general:\n",
        "        for j in i:\n",
        "            if j != '?':\n",
        "                gh.append(i)\n",
        "                break\n",
        "    print(\"\\nFinal Specific hypothesis:\\n\", specific)\n",
        "    print(\"\\nFinal General hypothesis:\\n\", gh)"
      ],
      "metadata": {
        "colab": {
          "base_uri": "https://localhost:8080/"
        },
        "id": "sIwR_8hacxi-",
        "outputId": "fe4edd17-e647-4490-9d23-12000c0a2007"
      },
      "execution_count": 2,
      "outputs": [
        {
          "output_type": "stream",
          "name": "stdout",
          "text": [
            "\n",
            "Step 1 of Candidate Elimination Algorithm\n",
            "['Sunny', 'Warm', 'Normal', 'Strong', 'Warm', 'Same']\n",
            "[['?', '?', '?', '?', '?', '?'], ['?', '?', '?', '?', '?', '?'], ['?', '?', '?', '?', '?', '?'], ['?', '?', '?', '?', '?', '?'], ['?', '?', '?', '?', '?', '?'], ['?', '?', '?', '?', '?', '?']]\n",
            "\n",
            "Step 2 of Candidate Elimination Algorithm\n",
            "['Sunny', 'Warm', '?', 'Strong', 'Warm', 'Same']\n",
            "[['?', '?', '?', '?', '?', '?'], ['?', '?', '?', '?', '?', '?'], ['?', '?', '?', '?', '?', '?'], ['?', '?', '?', '?', '?', '?'], ['?', '?', '?', '?', '?', '?'], ['?', '?', '?', '?', '?', '?']]\n",
            "\n",
            "Step 3 of Candidate Elimination Algorithm\n",
            "['Sunny', 'Warm', '?', 'Strong', 'Warm', 'Same']\n",
            "[['Sunny', '?', '?', '?', '?', '?'], ['?', 'Warm', '?', '?', '?', '?'], ['?', '?', '?', '?', '?', '?'], ['?', '?', '?', '?', '?', '?'], ['?', '?', '?', '?', '?', '?'], ['?', '?', '?', '?', '?', 'Same']]\n",
            "\n",
            "Step 4 of Candidate Elimination Algorithm\n",
            "['Sunny', 'Warm', '?', 'Strong', '?', '?']\n",
            "[['Sunny', '?', '?', '?', '?', '?'], ['?', 'Warm', '?', '?', '?', '?'], ['?', '?', '?', '?', '?', '?'], ['?', '?', '?', '?', '?', '?'], ['?', '?', '?', '?', '?', '?'], ['?', '?', '?', '?', '?', '?']]\n",
            "\n",
            "Final Specific hypothesis:\n",
            " ['Sunny', 'Warm', '?', 'Strong', '?', '?']\n",
            "\n",
            "Final General hypothesis:\n",
            " [['Sunny', '?', '?', '?', '?', '?'], ['?', 'Warm', '?', '?', '?', '?']]\n"
          ]
        }
      ]
    }
  ]
}