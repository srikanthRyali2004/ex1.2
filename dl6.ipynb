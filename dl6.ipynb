import matplotlib.pyplot as plt
import tensorflow as tf
import pandas as pd
import numpy as np
import warnings
warnings.filterwarnings('ignore')
from tensorflow import keras
from keras import layers
from tensorflow.keras.models import Sequential
from tensorflow.keras.layers import Activation, Dropout, Flatten, Dense
from tensorflow.keras.layers import Conv2D, MaxPooling2D
from tensorflow.keras.utils import image_dataset_from_directory
from tensorflow.keras.preprocessing.image import ImageDataGenerator, load_img
from tensorflow.keras.preprocessing import image_dataset_from_directory
import os
import matplotlib.image as mpimg
from google.colab import files
uploaded=files.upload()
from zipfile import ZipFile
data_path = 'dogs-vs-cats.zip'
with ZipFile(data_path,'r') as zip:
  zip.extractall()
print ( 'The data set has been extracted.' )

# Updated paths
path ='dogs-vs-cats'
classes = os.listdir(path)
classes

fig = plt.gcf()
fig.set_size_inches(16, 16)

# Fixed directories
cat_dir = os.path.join('dogs-vs-cats', 'cats')
dog_dir = os.path.join('dogs-vs-cats', 'dogs')

# Fixed filenames
cat_names = os.listdir(cat_dir)
dog_names = os.listdir(dog_dir)

pic_index = 8  # set to 8 since your folders likely have < 210 images

cat_images = [os.path.join(cat_dir, fname) for fname in cat_names[pic_index-8:pic_index]]
dog_images = [os.path.join(dog_dir, fname) for fname in dog_names[pic_index-8:pic_index]]

for i, img_path in enumerate(cat_images + dog_images):
  sp = plt.subplot(4, 4, i+1)
  sp.axis('Off')
  img = mpimg.imread(img_path)
  plt.imshow(img)

plt.show()
